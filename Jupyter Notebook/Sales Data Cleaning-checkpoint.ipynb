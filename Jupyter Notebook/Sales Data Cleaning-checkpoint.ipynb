{
 "cells": [
  {
   "cell_type": "code",
   "execution_count": 1,
   "id": "82e89863-c6c9-440c-80da-8ce5ed56ea04",
   "metadata": {},
   "outputs": [],
   "source": [
    "import pandas as pd\n",
    "import numpy as np\n",
    "import matplotlib.pyplot as plt\n",
    "import seaborn as sns"
   ]
  },
  {
   "cell_type": "code",
   "execution_count": 2,
   "id": "6ae4dddd-4477-4afe-8b66-812806f61be9",
   "metadata": {},
   "outputs": [],
   "source": [
    "# importing the data\n",
    "\n",
    "df = pd.read_excel('retail_store_sales.xlsx')"
   ]
  },
  {
   "cell_type": "code",
   "execution_count": 3,
   "id": "aa03a6bd-3530-4fb8-8a32-556b7ce3bfd4",
   "metadata": {},
   "outputs": [
    {
     "data": {
      "text/html": [
       "<div>\n",
       "<style scoped>\n",
       "    .dataframe tbody tr th:only-of-type {\n",
       "        vertical-align: middle;\n",
       "    }\n",
       "\n",
       "    .dataframe tbody tr th {\n",
       "        vertical-align: top;\n",
       "    }\n",
       "\n",
       "    .dataframe thead th {\n",
       "        text-align: right;\n",
       "    }\n",
       "</style>\n",
       "<table border=\"1\" class=\"dataframe\">\n",
       "  <thead>\n",
       "    <tr style=\"text-align: right;\">\n",
       "      <th></th>\n",
       "      <th>Transaction ID</th>\n",
       "      <th>Customer ID</th>\n",
       "      <th>Cat</th>\n",
       "      <th>Item</th>\n",
       "      <th>PPU</th>\n",
       "      <th>Quantity</th>\n",
       "      <th>Total Spent</th>\n",
       "      <th>Method</th>\n",
       "      <th>Location</th>\n",
       "      <th>Transaction Date</th>\n",
       "      <th>Discount</th>\n",
       "    </tr>\n",
       "  </thead>\n",
       "  <tbody>\n",
       "    <tr>\n",
       "      <th>0</th>\n",
       "      <td>TXN_6867343</td>\n",
       "      <td>CUST_09</td>\n",
       "      <td>Patisserie</td>\n",
       "      <td>Item_10_PAT</td>\n",
       "      <td>18.5</td>\n",
       "      <td>10</td>\n",
       "      <td>185.0</td>\n",
       "      <td>Digital Wallet</td>\n",
       "      <td>Online.</td>\n",
       "      <td>2024-04-08</td>\n",
       "      <td>1.0</td>\n",
       "    </tr>\n",
       "    <tr>\n",
       "      <th>1</th>\n",
       "      <td>TXN_3731986</td>\n",
       "      <td>CUST_22</td>\n",
       "      <td>Milk Products</td>\n",
       "      <td>Item_17_MILK</td>\n",
       "      <td>29.0</td>\n",
       "      <td>9</td>\n",
       "      <td>261.0</td>\n",
       "      <td>Digital Wallet</td>\n",
       "      <td>Online</td>\n",
       "      <td>2023-07-23</td>\n",
       "      <td>1.0</td>\n",
       "    </tr>\n",
       "    <tr>\n",
       "      <th>2</th>\n",
       "      <td>TXN_9303719</td>\n",
       "      <td>CUST_02</td>\n",
       "      <td>Butchers</td>\n",
       "      <td>Item_12_BUT</td>\n",
       "      <td>21.5</td>\n",
       "      <td>2</td>\n",
       "      <td>43.0</td>\n",
       "      <td>Credit Card</td>\n",
       "      <td>Online</td>\n",
       "      <td>2022-10-05</td>\n",
       "      <td>0.0</td>\n",
       "    </tr>\n",
       "    <tr>\n",
       "      <th>3</th>\n",
       "      <td>TXN_9458126</td>\n",
       "      <td>CUST_06</td>\n",
       "      <td>Beverages</td>\n",
       "      <td>Item_16_BEV</td>\n",
       "      <td>27.5</td>\n",
       "      <td>9</td>\n",
       "      <td>247.5</td>\n",
       "      <td>Credit Card</td>\n",
       "      <td>Online</td>\n",
       "      <td>2022-05-07</td>\n",
       "      <td>NaN</td>\n",
       "    </tr>\n",
       "    <tr>\n",
       "      <th>4</th>\n",
       "      <td>TXN_4575373</td>\n",
       "      <td>CUST_05</td>\n",
       "      <td>Food</td>\n",
       "      <td>Item_6_FOOD</td>\n",
       "      <td>12.5</td>\n",
       "      <td>7</td>\n",
       "      <td>87.5</td>\n",
       "      <td>Digital Wallet</td>\n",
       "      <td>Online</td>\n",
       "      <td>2022-10-02</td>\n",
       "      <td>0.0</td>\n",
       "    </tr>\n",
       "    <tr>\n",
       "      <th>...</th>\n",
       "      <td>...</td>\n",
       "      <td>...</td>\n",
       "      <td>...</td>\n",
       "      <td>...</td>\n",
       "      <td>...</td>\n",
       "      <td>...</td>\n",
       "      <td>...</td>\n",
       "      <td>...</td>\n",
       "      <td>...</td>\n",
       "      <td>...</td>\n",
       "      <td>...</td>\n",
       "    </tr>\n",
       "    <tr>\n",
       "      <th>12570</th>\n",
       "      <td>TXN_9347481</td>\n",
       "      <td>CUST_18</td>\n",
       "      <td>Patisserie</td>\n",
       "      <td>Item_23_PAT</td>\n",
       "      <td>38.0</td>\n",
       "      <td>4</td>\n",
       "      <td>152.0</td>\n",
       "      <td>Credit Card</td>\n",
       "      <td>In-store</td>\n",
       "      <td>2023-09-03</td>\n",
       "      <td>NaN</td>\n",
       "    </tr>\n",
       "    <tr>\n",
       "      <th>12571</th>\n",
       "      <td>TXN_4009414</td>\n",
       "      <td>CUST_03</td>\n",
       "      <td>Beverages</td>\n",
       "      <td>Item_2_BEV</td>\n",
       "      <td>6.5</td>\n",
       "      <td>9</td>\n",
       "      <td>58.5</td>\n",
       "      <td>Crash</td>\n",
       "      <td>Online</td>\n",
       "      <td>2022-08-12</td>\n",
       "      <td>0.0</td>\n",
       "    </tr>\n",
       "    <tr>\n",
       "      <th>12572</th>\n",
       "      <td>TXN_5306010</td>\n",
       "      <td>CUST_11</td>\n",
       "      <td>Butchers</td>\n",
       "      <td>Item_7_BUT</td>\n",
       "      <td>14.0</td>\n",
       "      <td>10</td>\n",
       "      <td>140.0</td>\n",
       "      <td>Crash</td>\n",
       "      <td>Online</td>\n",
       "      <td>2024-08-24</td>\n",
       "      <td>NaN</td>\n",
       "    </tr>\n",
       "    <tr>\n",
       "      <th>12573</th>\n",
       "      <td>TXN_5167298</td>\n",
       "      <td>CUST_04</td>\n",
       "      <td>Furniture</td>\n",
       "      <td>Item_7_FUR</td>\n",
       "      <td>14.0</td>\n",
       "      <td>6</td>\n",
       "      <td>84.0</td>\n",
       "      <td>Crash</td>\n",
       "      <td>Online</td>\n",
       "      <td>2023-12-30</td>\n",
       "      <td>1.0</td>\n",
       "    </tr>\n",
       "    <tr>\n",
       "      <th>12574</th>\n",
       "      <td>TXN_2407494</td>\n",
       "      <td>CUST_23</td>\n",
       "      <td>Food</td>\n",
       "      <td>Item_9_FOOD</td>\n",
       "      <td>17.0</td>\n",
       "      <td>3</td>\n",
       "      <td>51.0</td>\n",
       "      <td>Crash</td>\n",
       "      <td>Online</td>\n",
       "      <td>2022-08-06</td>\n",
       "      <td>NaN</td>\n",
       "    </tr>\n",
       "  </tbody>\n",
       "</table>\n",
       "<p>12575 rows × 11 columns</p>\n",
       "</div>"
      ],
      "text/plain": [
       "      Transaction ID Customer ID            Cat          Item   PPU Quantity  \\\n",
       "0        TXN_6867343     CUST_09     Patisserie   Item_10_PAT  18.5       10   \n",
       "1        TXN_3731986     CUST_22  Milk Products  Item_17_MILK  29.0        9   \n",
       "2        TXN_9303719     CUST_02       Butchers   Item_12_BUT  21.5        2   \n",
       "3        TXN_9458126     CUST_06      Beverages   Item_16_BEV  27.5        9   \n",
       "4        TXN_4575373     CUST_05           Food   Item_6_FOOD  12.5        7   \n",
       "...              ...         ...            ...           ...   ...      ...   \n",
       "12570    TXN_9347481     CUST_18     Patisserie   Item_23_PAT  38.0        4   \n",
       "12571    TXN_4009414     CUST_03      Beverages    Item_2_BEV   6.5        9   \n",
       "12572    TXN_5306010     CUST_11       Butchers    Item_7_BUT  14.0       10   \n",
       "12573    TXN_5167298     CUST_04      Furniture    Item_7_FUR  14.0        6   \n",
       "12574    TXN_2407494     CUST_23           Food   Item_9_FOOD  17.0        3   \n",
       "\n",
       "       Total Spent          Method  Location Transaction Date  Discount  \n",
       "0            185.0  Digital Wallet   Online.       2024-04-08       1.0  \n",
       "1            261.0  Digital Wallet    Online       2023-07-23       1.0  \n",
       "2             43.0     Credit Card    Online       2022-10-05       0.0  \n",
       "3            247.5     Credit Card    Online       2022-05-07       NaN  \n",
       "4             87.5  Digital Wallet    Online       2022-10-02       0.0  \n",
       "...            ...             ...       ...              ...       ...  \n",
       "12570        152.0     Credit Card  In-store       2023-09-03       NaN  \n",
       "12571         58.5           Crash    Online       2022-08-12       0.0  \n",
       "12572        140.0           Crash    Online       2024-08-24       NaN  \n",
       "12573         84.0           Crash    Online       2023-12-30       1.0  \n",
       "12574         51.0           Crash    Online       2022-08-06       NaN  \n",
       "\n",
       "[12575 rows x 11 columns]"
      ]
     },
     "execution_count": 3,
     "metadata": {},
     "output_type": "execute_result"
    }
   ],
   "source": [
    "df"
   ]
  },
  {
   "cell_type": "code",
   "execution_count": 4,
   "id": "eabeb3dd-94ed-4e84-be3e-01e21950a4e8",
   "metadata": {},
   "outputs": [],
   "source": [
    "# exploring the dataset"
   ]
  },
  {
   "cell_type": "code",
   "execution_count": 5,
   "id": "6e9587b7-b554-4d12-aa9c-f4e9ec88a9ea",
   "metadata": {},
   "outputs": [
    {
     "data": {
      "text/plain": [
       "(12575, 11)"
      ]
     },
     "execution_count": 5,
     "metadata": {},
     "output_type": "execute_result"
    }
   ],
   "source": [
    "df.shape"
   ]
  },
  {
   "cell_type": "code",
   "execution_count": 6,
   "id": "0dca5b10-0892-4d27-83ec-f40a0980138c",
   "metadata": {},
   "outputs": [
    {
     "data": {
      "text/html": [
       "<div>\n",
       "<style scoped>\n",
       "    .dataframe tbody tr th:only-of-type {\n",
       "        vertical-align: middle;\n",
       "    }\n",
       "\n",
       "    .dataframe tbody tr th {\n",
       "        vertical-align: top;\n",
       "    }\n",
       "\n",
       "    .dataframe thead th {\n",
       "        text-align: right;\n",
       "    }\n",
       "</style>\n",
       "<table border=\"1\" class=\"dataframe\">\n",
       "  <thead>\n",
       "    <tr style=\"text-align: right;\">\n",
       "      <th></th>\n",
       "      <th>Transaction ID</th>\n",
       "      <th>Customer ID</th>\n",
       "      <th>Cat</th>\n",
       "      <th>Item</th>\n",
       "      <th>PPU</th>\n",
       "      <th>Quantity</th>\n",
       "      <th>Total Spent</th>\n",
       "      <th>Method</th>\n",
       "      <th>Location</th>\n",
       "      <th>Transaction Date</th>\n",
       "      <th>Discount</th>\n",
       "    </tr>\n",
       "  </thead>\n",
       "  <tbody>\n",
       "    <tr>\n",
       "      <th>count</th>\n",
       "      <td>12575</td>\n",
       "      <td>12575</td>\n",
       "      <td>12575</td>\n",
       "      <td>11362</td>\n",
       "      <td>11966.000000</td>\n",
       "      <td>11972.0</td>\n",
       "      <td>11971.000000</td>\n",
       "      <td>12575</td>\n",
       "      <td>12575</td>\n",
       "      <td>12575</td>\n",
       "      <td>8376.000000</td>\n",
       "    </tr>\n",
       "    <tr>\n",
       "      <th>unique</th>\n",
       "      <td>12575</td>\n",
       "      <td>25</td>\n",
       "      <td>8</td>\n",
       "      <td>200</td>\n",
       "      <td>NaN</td>\n",
       "      <td>11.0</td>\n",
       "      <td>NaN</td>\n",
       "      <td>3</td>\n",
       "      <td>3</td>\n",
       "      <td>NaN</td>\n",
       "      <td>NaN</td>\n",
       "    </tr>\n",
       "    <tr>\n",
       "      <th>top</th>\n",
       "      <td>TXN_6867343</td>\n",
       "      <td>CUST_05</td>\n",
       "      <td>Furniture</td>\n",
       "      <td>Item_2_BEV</td>\n",
       "      <td>NaN</td>\n",
       "      <td>10.0</td>\n",
       "      <td>NaN</td>\n",
       "      <td>Crash</td>\n",
       "      <td>Online</td>\n",
       "      <td>NaN</td>\n",
       "      <td>NaN</td>\n",
       "    </tr>\n",
       "    <tr>\n",
       "      <th>freq</th>\n",
       "      <td>1</td>\n",
       "      <td>544</td>\n",
       "      <td>1591</td>\n",
       "      <td>126</td>\n",
       "      <td>NaN</td>\n",
       "      <td>1232.0</td>\n",
       "      <td>NaN</td>\n",
       "      <td>4310</td>\n",
       "      <td>6353</td>\n",
       "      <td>NaN</td>\n",
       "      <td>NaN</td>\n",
       "    </tr>\n",
       "    <tr>\n",
       "      <th>mean</th>\n",
       "      <td>NaN</td>\n",
       "      <td>NaN</td>\n",
       "      <td>NaN</td>\n",
       "      <td>NaN</td>\n",
       "      <td>23.365912</td>\n",
       "      <td>NaN</td>\n",
       "      <td>129.652577</td>\n",
       "      <td>NaN</td>\n",
       "      <td>NaN</td>\n",
       "      <td>2023-07-12 20:23:41.105368064</td>\n",
       "      <td>0.503701</td>\n",
       "    </tr>\n",
       "    <tr>\n",
       "      <th>min</th>\n",
       "      <td>NaN</td>\n",
       "      <td>NaN</td>\n",
       "      <td>NaN</td>\n",
       "      <td>NaN</td>\n",
       "      <td>5.000000</td>\n",
       "      <td>NaN</td>\n",
       "      <td>5.000000</td>\n",
       "      <td>NaN</td>\n",
       "      <td>NaN</td>\n",
       "      <td>2022-01-01 00:00:00</td>\n",
       "      <td>0.000000</td>\n",
       "    </tr>\n",
       "    <tr>\n",
       "      <th>25%</th>\n",
       "      <td>NaN</td>\n",
       "      <td>NaN</td>\n",
       "      <td>NaN</td>\n",
       "      <td>NaN</td>\n",
       "      <td>14.000000</td>\n",
       "      <td>NaN</td>\n",
       "      <td>51.000000</td>\n",
       "      <td>NaN</td>\n",
       "      <td>NaN</td>\n",
       "      <td>2022-09-30 00:00:00</td>\n",
       "      <td>0.000000</td>\n",
       "    </tr>\n",
       "    <tr>\n",
       "      <th>50%</th>\n",
       "      <td>NaN</td>\n",
       "      <td>NaN</td>\n",
       "      <td>NaN</td>\n",
       "      <td>NaN</td>\n",
       "      <td>23.000000</td>\n",
       "      <td>NaN</td>\n",
       "      <td>108.500000</td>\n",
       "      <td>NaN</td>\n",
       "      <td>NaN</td>\n",
       "      <td>2023-07-13 00:00:00</td>\n",
       "      <td>1.000000</td>\n",
       "    </tr>\n",
       "    <tr>\n",
       "      <th>75%</th>\n",
       "      <td>NaN</td>\n",
       "      <td>NaN</td>\n",
       "      <td>NaN</td>\n",
       "      <td>NaN</td>\n",
       "      <td>33.500000</td>\n",
       "      <td>NaN</td>\n",
       "      <td>192.000000</td>\n",
       "      <td>NaN</td>\n",
       "      <td>NaN</td>\n",
       "      <td>2024-04-24 00:00:00</td>\n",
       "      <td>1.000000</td>\n",
       "    </tr>\n",
       "    <tr>\n",
       "      <th>max</th>\n",
       "      <td>NaN</td>\n",
       "      <td>NaN</td>\n",
       "      <td>NaN</td>\n",
       "      <td>NaN</td>\n",
       "      <td>41.000000</td>\n",
       "      <td>NaN</td>\n",
       "      <td>410.000000</td>\n",
       "      <td>NaN</td>\n",
       "      <td>NaN</td>\n",
       "      <td>2025-01-18 00:00:00</td>\n",
       "      <td>1.000000</td>\n",
       "    </tr>\n",
       "    <tr>\n",
       "      <th>std</th>\n",
       "      <td>NaN</td>\n",
       "      <td>NaN</td>\n",
       "      <td>NaN</td>\n",
       "      <td>NaN</td>\n",
       "      <td>10.743519</td>\n",
       "      <td>NaN</td>\n",
       "      <td>94.750697</td>\n",
       "      <td>NaN</td>\n",
       "      <td>NaN</td>\n",
       "      <td>NaN</td>\n",
       "      <td>0.500016</td>\n",
       "    </tr>\n",
       "  </tbody>\n",
       "</table>\n",
       "</div>"
      ],
      "text/plain": [
       "       Transaction ID Customer ID        Cat        Item           PPU  \\\n",
       "count           12575       12575      12575       11362  11966.000000   \n",
       "unique          12575          25          8         200           NaN   \n",
       "top       TXN_6867343     CUST_05  Furniture  Item_2_BEV           NaN   \n",
       "freq                1         544       1591         126           NaN   \n",
       "mean              NaN         NaN        NaN         NaN     23.365912   \n",
       "min               NaN         NaN        NaN         NaN      5.000000   \n",
       "25%               NaN         NaN        NaN         NaN     14.000000   \n",
       "50%               NaN         NaN        NaN         NaN     23.000000   \n",
       "75%               NaN         NaN        NaN         NaN     33.500000   \n",
       "max               NaN         NaN        NaN         NaN     41.000000   \n",
       "std               NaN         NaN        NaN         NaN     10.743519   \n",
       "\n",
       "        Quantity   Total Spent  Method Location  \\\n",
       "count    11972.0  11971.000000   12575    12575   \n",
       "unique      11.0           NaN       3        3   \n",
       "top         10.0           NaN   Crash   Online   \n",
       "freq      1232.0           NaN    4310     6353   \n",
       "mean         NaN    129.652577     NaN      NaN   \n",
       "min          NaN      5.000000     NaN      NaN   \n",
       "25%          NaN     51.000000     NaN      NaN   \n",
       "50%          NaN    108.500000     NaN      NaN   \n",
       "75%          NaN    192.000000     NaN      NaN   \n",
       "max          NaN    410.000000     NaN      NaN   \n",
       "std          NaN     94.750697     NaN      NaN   \n",
       "\n",
       "                     Transaction Date     Discount  \n",
       "count                           12575  8376.000000  \n",
       "unique                            NaN          NaN  \n",
       "top                               NaN          NaN  \n",
       "freq                              NaN          NaN  \n",
       "mean    2023-07-12 20:23:41.105368064     0.503701  \n",
       "min               2022-01-01 00:00:00     0.000000  \n",
       "25%               2022-09-30 00:00:00     0.000000  \n",
       "50%               2023-07-13 00:00:00     1.000000  \n",
       "75%               2024-04-24 00:00:00     1.000000  \n",
       "max               2025-01-18 00:00:00     1.000000  \n",
       "std                               NaN     0.500016  "
      ]
     },
     "execution_count": 6,
     "metadata": {},
     "output_type": "execute_result"
    }
   ],
   "source": [
    "df.describe(include = 'all')"
   ]
  },
  {
   "cell_type": "code",
   "execution_count": 7,
   "id": "ee8f896b-63e1-4339-8215-273a50e58c16",
   "metadata": {},
   "outputs": [
    {
     "name": "stdout",
     "output_type": "stream",
     "text": [
      "<class 'pandas.core.frame.DataFrame'>\n",
      "RangeIndex: 12575 entries, 0 to 12574\n",
      "Data columns (total 11 columns):\n",
      " #   Column            Non-Null Count  Dtype         \n",
      "---  ------            --------------  -----         \n",
      " 0   Transaction ID    12575 non-null  object        \n",
      " 1   Customer ID       12575 non-null  object        \n",
      " 2   Cat               12575 non-null  object        \n",
      " 3   Item              11362 non-null  object        \n",
      " 4   PPU               11966 non-null  float64       \n",
      " 5   Quantity          11972 non-null  object        \n",
      " 6   Total Spent       11971 non-null  float64       \n",
      " 7    Method           12575 non-null  object        \n",
      " 8   Location          12575 non-null  object        \n",
      " 9   Transaction Date  12575 non-null  datetime64[ns]\n",
      " 10  Discount          8376 non-null   float64       \n",
      "dtypes: datetime64[ns](1), float64(3), object(7)\n",
      "memory usage: 1.1+ MB\n"
     ]
    }
   ],
   "source": [
    "df.info()"
   ]
  },
  {
   "cell_type": "code",
   "execution_count": 8,
   "id": "958e2299-d645-4188-a1c2-e317962bf33c",
   "metadata": {},
   "outputs": [],
   "source": [
    "# since quantity should be a number but its datatype here seems to be object we need to further check it"
   ]
  },
  {
   "cell_type": "code",
   "execution_count": 9,
   "id": "770d172f-4fdf-4e01-b8f8-a9d6b312764d",
   "metadata": {},
   "outputs": [
    {
     "data": {
      "text/plain": [
       "array([10, 9, 2, 7, 8, 's', 1, 3, 6, nan, 4, 5], dtype=object)"
      ]
     },
     "execution_count": 9,
     "metadata": {},
     "output_type": "execute_result"
    }
   ],
   "source": [
    "df['Quantity'].unique()"
   ]
  },
  {
   "cell_type": "code",
   "execution_count": 10,
   "id": "32eabc87-7ebe-474c-99e9-5b6eefeb6afa",
   "metadata": {},
   "outputs": [
    {
     "data": {
      "text/plain": [
       "Quantity\n",
       "10    1232\n",
       "5     1228\n",
       "7     1227\n",
       "8     1226\n",
       "3     1224\n",
       "6     1220\n",
       "2     1164\n",
       "4     1155\n",
       "9     1148\n",
       "1     1147\n",
       "s        1\n",
       "Name: count, dtype: int64"
      ]
     },
     "execution_count": 10,
     "metadata": {},
     "output_type": "execute_result"
    }
   ],
   "source": [
    "df['Quantity'].value_counts()"
   ]
  },
  {
   "cell_type": "code",
   "execution_count": 11,
   "id": "e654bb6f-10d9-4d87-9f7d-36bf22269809",
   "metadata": {},
   "outputs": [],
   "source": [
    "# so since there is a string \"s\" in this column it is causing an issue"
   ]
  },
  {
   "cell_type": "code",
   "execution_count": 12,
   "id": "4bdfbe31-d766-4d4c-ab53-55a34f03da6a",
   "metadata": {},
   "outputs": [],
   "source": [
    "df['Quantity'] = df['Quantity'].replace(\"s\",\"\")\n",
    "\n",
    "# replacing empty str with nan value\n",
    "\n",
    "df['Quantity'] = df['Quantity'].replace(\"s\",np.nan)\n",
    "\n",
    "#lastly converitng the column back to numeric\n",
    "\n",
    "df['Quantity'] = pd.to_numeric(df['Quantity'], errors = \"coerce\")\n"
   ]
  },
  {
   "cell_type": "code",
   "execution_count": 13,
   "id": "2a2b30ed-fa1f-4b42-9cb4-e904faac1599",
   "metadata": {},
   "outputs": [
    {
     "name": "stdout",
     "output_type": "stream",
     "text": [
      "<class 'pandas.core.frame.DataFrame'>\n",
      "RangeIndex: 12575 entries, 0 to 12574\n",
      "Data columns (total 11 columns):\n",
      " #   Column            Non-Null Count  Dtype         \n",
      "---  ------            --------------  -----         \n",
      " 0   Transaction ID    12575 non-null  object        \n",
      " 1   Customer ID       12575 non-null  object        \n",
      " 2   Cat               12575 non-null  object        \n",
      " 3   Item              11362 non-null  object        \n",
      " 4   PPU               11966 non-null  float64       \n",
      " 5   Quantity          11971 non-null  float64       \n",
      " 6   Total Spent       11971 non-null  float64       \n",
      " 7    Method           12575 non-null  object        \n",
      " 8   Location          12575 non-null  object        \n",
      " 9   Transaction Date  12575 non-null  datetime64[ns]\n",
      " 10  Discount          8376 non-null   float64       \n",
      "dtypes: datetime64[ns](1), float64(4), object(6)\n",
      "memory usage: 1.1+ MB\n"
     ]
    }
   ],
   "source": [
    "df.info()"
   ]
  },
  {
   "cell_type": "code",
   "execution_count": 14,
   "id": "e4816689-e481-4d68-bc21-56641aefe43a",
   "metadata": {},
   "outputs": [],
   "source": [
    "#checking for nulls now"
   ]
  },
  {
   "cell_type": "code",
   "execution_count": 15,
   "id": "2ddbb656-5745-487e-a266-3c7efed90918",
   "metadata": {},
   "outputs": [
    {
     "data": {
      "text/plain": [
       "Transaction ID         0\n",
       "Customer ID            0\n",
       "Cat                    0\n",
       "Item                1213\n",
       "PPU                  609\n",
       "Quantity             604\n",
       "Total Spent          604\n",
       " Method                0\n",
       "Location               0\n",
       "Transaction Date       0\n",
       "Discount            4199\n",
       "dtype: int64"
      ]
     },
     "execution_count": 15,
     "metadata": {},
     "output_type": "execute_result"
    }
   ],
   "source": [
    "df.isna().sum()"
   ]
  },
  {
   "cell_type": "code",
   "execution_count": 16,
   "id": "05b5c1d3-01c3-4da8-9b5f-0f17cf860e02",
   "metadata": {},
   "outputs": [],
   "source": [
    "# checking for items first"
   ]
  },
  {
   "cell_type": "code",
   "execution_count": 17,
   "id": "c0add6c3-c00f-4481-9808-477af19ab256",
   "metadata": {},
   "outputs": [
    {
     "data": {
      "text/html": [
       "<div>\n",
       "<style scoped>\n",
       "    .dataframe tbody tr th:only-of-type {\n",
       "        vertical-align: middle;\n",
       "    }\n",
       "\n",
       "    .dataframe tbody tr th {\n",
       "        vertical-align: top;\n",
       "    }\n",
       "\n",
       "    .dataframe thead th {\n",
       "        text-align: right;\n",
       "    }\n",
       "</style>\n",
       "<table border=\"1\" class=\"dataframe\">\n",
       "  <thead>\n",
       "    <tr style=\"text-align: right;\">\n",
       "      <th></th>\n",
       "      <th>Transaction ID</th>\n",
       "      <th>Customer ID</th>\n",
       "      <th>Cat</th>\n",
       "      <th>Item</th>\n",
       "      <th>PPU</th>\n",
       "      <th>Quantity</th>\n",
       "      <th>Total Spent</th>\n",
       "      <th>Method</th>\n",
       "      <th>Location</th>\n",
       "      <th>Transaction Date</th>\n",
       "      <th>Discount</th>\n",
       "    </tr>\n",
       "  </thead>\n",
       "  <tbody>\n",
       "    <tr>\n",
       "      <th>0</th>\n",
       "      <td>TXN_6867343</td>\n",
       "      <td>CUST_09</td>\n",
       "      <td>Patisserie</td>\n",
       "      <td>Item_10_PAT</td>\n",
       "      <td>18.5</td>\n",
       "      <td>10.0</td>\n",
       "      <td>185.0</td>\n",
       "      <td>Digital Wallet</td>\n",
       "      <td>Online.</td>\n",
       "      <td>2024-04-08</td>\n",
       "      <td>1.0</td>\n",
       "    </tr>\n",
       "    <tr>\n",
       "      <th>1</th>\n",
       "      <td>TXN_3731986</td>\n",
       "      <td>CUST_22</td>\n",
       "      <td>Milk Products</td>\n",
       "      <td>Item_17_MILK</td>\n",
       "      <td>29.0</td>\n",
       "      <td>9.0</td>\n",
       "      <td>261.0</td>\n",
       "      <td>Digital Wallet</td>\n",
       "      <td>Online</td>\n",
       "      <td>2023-07-23</td>\n",
       "      <td>1.0</td>\n",
       "    </tr>\n",
       "    <tr>\n",
       "      <th>2</th>\n",
       "      <td>TXN_9303719</td>\n",
       "      <td>CUST_02</td>\n",
       "      <td>Butchers</td>\n",
       "      <td>Item_12_BUT</td>\n",
       "      <td>21.5</td>\n",
       "      <td>2.0</td>\n",
       "      <td>43.0</td>\n",
       "      <td>Credit Card</td>\n",
       "      <td>Online</td>\n",
       "      <td>2022-10-05</td>\n",
       "      <td>0.0</td>\n",
       "    </tr>\n",
       "    <tr>\n",
       "      <th>3</th>\n",
       "      <td>TXN_9458126</td>\n",
       "      <td>CUST_06</td>\n",
       "      <td>Beverages</td>\n",
       "      <td>Item_16_BEV</td>\n",
       "      <td>27.5</td>\n",
       "      <td>9.0</td>\n",
       "      <td>247.5</td>\n",
       "      <td>Credit Card</td>\n",
       "      <td>Online</td>\n",
       "      <td>2022-05-07</td>\n",
       "      <td>NaN</td>\n",
       "    </tr>\n",
       "    <tr>\n",
       "      <th>4</th>\n",
       "      <td>TXN_4575373</td>\n",
       "      <td>CUST_05</td>\n",
       "      <td>Food</td>\n",
       "      <td>Item_6_FOOD</td>\n",
       "      <td>12.5</td>\n",
       "      <td>7.0</td>\n",
       "      <td>87.5</td>\n",
       "      <td>Digital Wallet</td>\n",
       "      <td>Online</td>\n",
       "      <td>2022-10-02</td>\n",
       "      <td>0.0</td>\n",
       "    </tr>\n",
       "  </tbody>\n",
       "</table>\n",
       "</div>"
      ],
      "text/plain": [
       "  Transaction ID Customer ID            Cat          Item   PPU  Quantity  \\\n",
       "0    TXN_6867343     CUST_09     Patisserie   Item_10_PAT  18.5      10.0   \n",
       "1    TXN_3731986     CUST_22  Milk Products  Item_17_MILK  29.0       9.0   \n",
       "2    TXN_9303719     CUST_02       Butchers   Item_12_BUT  21.5       2.0   \n",
       "3    TXN_9458126     CUST_06      Beverages   Item_16_BEV  27.5       9.0   \n",
       "4    TXN_4575373     CUST_05           Food   Item_6_FOOD  12.5       7.0   \n",
       "\n",
       "   Total Spent          Method Location Transaction Date  Discount  \n",
       "0        185.0  Digital Wallet  Online.       2024-04-08       1.0  \n",
       "1        261.0  Digital Wallet   Online       2023-07-23       1.0  \n",
       "2         43.0     Credit Card   Online       2022-10-05       0.0  \n",
       "3        247.5     Credit Card   Online       2022-05-07       NaN  \n",
       "4         87.5  Digital Wallet   Online       2022-10-02       0.0  "
      ]
     },
     "execution_count": 17,
     "metadata": {},
     "output_type": "execute_result"
    }
   ],
   "source": [
    "df.head()"
   ]
  },
  {
   "cell_type": "code",
   "execution_count": 18,
   "id": "e75f4057-7ddb-4e5b-93ea-242154fa74a8",
   "metadata": {},
   "outputs": [],
   "source": [
    "# since item is related to category we can fill the null values"
   ]
  },
  {
   "cell_type": "code",
   "execution_count": 19,
   "id": "f9df0abd-5ae1-4cc1-8d81-7992b8ebde2e",
   "metadata": {},
   "outputs": [
    {
     "data": {
      "text/plain": [
       "array(['Patisserie', 'Milk Products', 'Butchers', 'Beverages', 'Food',\n",
       "       'Furniture', 'Electric household essentials',\n",
       "       'Computers and electric accessories'], dtype=object)"
      ]
     },
     "execution_count": 19,
     "metadata": {},
     "output_type": "execute_result"
    }
   ],
   "source": [
    "df['Cat'].unique()"
   ]
  },
  {
   "cell_type": "code",
   "execution_count": 20,
   "id": "8ee930bc-e89a-4325-a015-fe4bb2331ca9",
   "metadata": {},
   "outputs": [
    {
     "data": {
      "text/html": [
       "<div>\n",
       "<style scoped>\n",
       "    .dataframe tbody tr th:only-of-type {\n",
       "        vertical-align: middle;\n",
       "    }\n",
       "\n",
       "    .dataframe tbody tr th {\n",
       "        vertical-align: top;\n",
       "    }\n",
       "\n",
       "    .dataframe thead th {\n",
       "        text-align: right;\n",
       "    }\n",
       "</style>\n",
       "<table border=\"1\" class=\"dataframe\">\n",
       "  <thead>\n",
       "    <tr style=\"text-align: right;\">\n",
       "      <th></th>\n",
       "      <th>Transaction ID</th>\n",
       "      <th>Customer ID</th>\n",
       "      <th>Cat</th>\n",
       "      <th>Item</th>\n",
       "      <th>PPU</th>\n",
       "      <th>Quantity</th>\n",
       "      <th>Total Spent</th>\n",
       "      <th>Method</th>\n",
       "      <th>Location</th>\n",
       "      <th>Transaction Date</th>\n",
       "      <th>Discount</th>\n",
       "    </tr>\n",
       "  </thead>\n",
       "  <tbody>\n",
       "    <tr>\n",
       "      <th>46</th>\n",
       "      <td>TXN_6404316</td>\n",
       "      <td>CUST_04</td>\n",
       "      <td>Computers and electric accessories</td>\n",
       "      <td>Item_16_CEA</td>\n",
       "      <td>27.5</td>\n",
       "      <td>6.0</td>\n",
       "      <td>165.0</td>\n",
       "      <td>Credit Card</td>\n",
       "      <td>Online</td>\n",
       "      <td>2022-04-06</td>\n",
       "      <td>0.0</td>\n",
       "    </tr>\n",
       "    <tr>\n",
       "      <th>51</th>\n",
       "      <td>TXN_8413369</td>\n",
       "      <td>CUST_23</td>\n",
       "      <td>Computers and electric accessories</td>\n",
       "      <td>Item_5_CEA</td>\n",
       "      <td>11.0</td>\n",
       "      <td>6.0</td>\n",
       "      <td>66.0</td>\n",
       "      <td>Credit Card</td>\n",
       "      <td>Online</td>\n",
       "      <td>2024-03-09</td>\n",
       "      <td>1.0</td>\n",
       "    </tr>\n",
       "    <tr>\n",
       "      <th>56</th>\n",
       "      <td>TXN_7909783</td>\n",
       "      <td>CUST_12</td>\n",
       "      <td>Computers and electric accessories</td>\n",
       "      <td>Item_5_CEA</td>\n",
       "      <td>11.0</td>\n",
       "      <td>1.0</td>\n",
       "      <td>11.0</td>\n",
       "      <td>Credit Card</td>\n",
       "      <td>Online</td>\n",
       "      <td>2023-12-17</td>\n",
       "      <td>1.0</td>\n",
       "    </tr>\n",
       "    <tr>\n",
       "      <th>57</th>\n",
       "      <td>TXN_5046007</td>\n",
       "      <td>CUST_07</td>\n",
       "      <td>Computers and electric accessories</td>\n",
       "      <td>Item_15_CEA</td>\n",
       "      <td>26.0</td>\n",
       "      <td>9.0</td>\n",
       "      <td>234.0</td>\n",
       "      <td>Crash</td>\n",
       "      <td>Online</td>\n",
       "      <td>2024-07-22</td>\n",
       "      <td>1.0</td>\n",
       "    </tr>\n",
       "    <tr>\n",
       "      <th>60</th>\n",
       "      <td>TXN_6820452</td>\n",
       "      <td>CUST_10</td>\n",
       "      <td>Computers and electric accessories</td>\n",
       "      <td>Item_24_CEA</td>\n",
       "      <td>39.5</td>\n",
       "      <td>8.0</td>\n",
       "      <td>316.0</td>\n",
       "      <td>Credit Card</td>\n",
       "      <td>In-store</td>\n",
       "      <td>2023-04-18</td>\n",
       "      <td>0.0</td>\n",
       "    </tr>\n",
       "  </tbody>\n",
       "</table>\n",
       "</div>"
      ],
      "text/plain": [
       "   Transaction ID Customer ID                                 Cat  \\\n",
       "46    TXN_6404316     CUST_04  Computers and electric accessories   \n",
       "51    TXN_8413369     CUST_23  Computers and electric accessories   \n",
       "56    TXN_7909783     CUST_12  Computers and electric accessories   \n",
       "57    TXN_5046007     CUST_07  Computers and electric accessories   \n",
       "60    TXN_6820452     CUST_10  Computers and electric accessories   \n",
       "\n",
       "           Item   PPU  Quantity  Total Spent       Method  Location  \\\n",
       "46  Item_16_CEA  27.5       6.0        165.0  Credit Card    Online   \n",
       "51   Item_5_CEA  11.0       6.0         66.0  Credit Card    Online   \n",
       "56   Item_5_CEA  11.0       1.0         11.0  Credit Card    Online   \n",
       "57  Item_15_CEA  26.0       9.0        234.0        Crash    Online   \n",
       "60  Item_24_CEA  39.5       8.0        316.0  Credit Card  In-store   \n",
       "\n",
       "   Transaction Date  Discount  \n",
       "46       2022-04-06       0.0  \n",
       "51       2024-03-09       1.0  \n",
       "56       2023-12-17       1.0  \n",
       "57       2024-07-22       1.0  \n",
       "60       2023-04-18       0.0  "
      ]
     },
     "execution_count": 20,
     "metadata": {},
     "output_type": "execute_result"
    }
   ],
   "source": [
    "df[df['Cat'] == \"Computers and electric accessories\"].head()"
   ]
  },
  {
   "cell_type": "code",
   "execution_count": 21,
   "id": "cb1851f9-df0a-422b-9286-bde9d04a0ae5",
   "metadata": {},
   "outputs": [],
   "source": [
    "def itemfill(row):\n",
    "    if pd.isna(row['Item']) or row['Item'] == \"\":\n",
    "        if row['Cat'] == \"Patisserie\":\n",
    "            return \"Item_PAT\"\n",
    "        elif row['Cat'] == \"Milk Products\":\n",
    "            return \"Item_MILK\"\n",
    "        elif row['Cat'] == \"Butchers\":\n",
    "            return \"Item_BUT\"\n",
    "        elif row['Cat'] == \"Beverages\":\n",
    "            return \"Item_BEV\"\n",
    "        elif row['Cat'] == \"Food\":\n",
    "            return \"Item_FOOD\"\n",
    "        elif row['Cat'] == \"Furniture\":\n",
    "            return \"Item_FUR\"\n",
    "        elif row['Cat'] == \"Electric household essentials\":\n",
    "            return \"Item_EHE\"\n",
    "        elif row['Cat'] == \"Computers and electric accessories\":\n",
    "            return \"Item_CEA\"\n",
    "    return row['Item']\n",
    "\n",
    "df['Item'] = df.apply(itemfill, axis=1)\n",
    "\n"
   ]
  },
  {
   "cell_type": "code",
   "execution_count": 22,
   "id": "8e8df464-febd-4ae5-bab9-3ed58cf5c5ca",
   "metadata": {},
   "outputs": [
    {
     "data": {
      "text/plain": [
       "0"
      ]
     },
     "execution_count": 22,
     "metadata": {},
     "output_type": "execute_result"
    }
   ],
   "source": [
    "df['Item'].isna().sum()"
   ]
  },
  {
   "cell_type": "code",
   "execution_count": 23,
   "id": "054e2e61-9ba0-4be2-ad64-1f63b631f621",
   "metadata": {},
   "outputs": [
    {
     "data": {
      "text/plain": [
       "Transaction ID         0\n",
       "Customer ID            0\n",
       "Cat                    0\n",
       "Item                   0\n",
       "PPU                  609\n",
       "Quantity             604\n",
       "Total Spent          604\n",
       " Method                0\n",
       "Location               0\n",
       "Transaction Date       0\n",
       "Discount            4199\n",
       "dtype: int64"
      ]
     },
     "execution_count": 23,
     "metadata": {},
     "output_type": "execute_result"
    }
   ],
   "source": [
    "df.isna().sum()"
   ]
  },
  {
   "cell_type": "code",
   "execution_count": 24,
   "id": "baca6e46-ada6-4a84-aa5e-8f7cbea849aa",
   "metadata": {},
   "outputs": [],
   "source": [
    "# now lets look at Total spent\n",
    "# total spent = price per unit * quantity. \n",
    "# so, if we have ppu and quantity then we can calculate total sales"
   ]
  },
  {
   "cell_type": "code",
   "execution_count": 25,
   "id": "ee9a73e9-2e3a-4d72-981e-8ad68b92f6be",
   "metadata": {},
   "outputs": [],
   "source": [
    "# dropping a col if both ppu and quantity is empty\n",
    "\n",
    "df.dropna(subset=['PPU','Quantity'], how = 'all',inplace = True)"
   ]
  },
  {
   "cell_type": "code",
   "execution_count": 26,
   "id": "bcb28263-81e8-4391-9987-c75da2dca88e",
   "metadata": {},
   "outputs": [
    {
     "data": {
      "text/html": [
       "<div>\n",
       "<style scoped>\n",
       "    .dataframe tbody tr th:only-of-type {\n",
       "        vertical-align: middle;\n",
       "    }\n",
       "\n",
       "    .dataframe tbody tr th {\n",
       "        vertical-align: top;\n",
       "    }\n",
       "\n",
       "    .dataframe thead th {\n",
       "        text-align: right;\n",
       "    }\n",
       "</style>\n",
       "<table border=\"1\" class=\"dataframe\">\n",
       "  <thead>\n",
       "    <tr style=\"text-align: right;\">\n",
       "      <th></th>\n",
       "      <th>Transaction ID</th>\n",
       "      <th>Customer ID</th>\n",
       "      <th>Cat</th>\n",
       "      <th>Item</th>\n",
       "      <th>PPU</th>\n",
       "      <th>Quantity</th>\n",
       "      <th>Total Spent</th>\n",
       "      <th>Method</th>\n",
       "      <th>Location</th>\n",
       "      <th>Transaction Date</th>\n",
       "      <th>Discount</th>\n",
       "    </tr>\n",
       "  </thead>\n",
       "  <tbody>\n",
       "  </tbody>\n",
       "</table>\n",
       "</div>"
      ],
      "text/plain": [
       "Empty DataFrame\n",
       "Columns: [Transaction ID, Customer ID, Cat, Item, PPU, Quantity, Total Spent,  Method, Location, Transaction Date, Discount]\n",
       "Index: []"
      ]
     },
     "execution_count": 26,
     "metadata": {},
     "output_type": "execute_result"
    }
   ],
   "source": [
    "filter = ((df['Total Spent'] == \"\") | (df['Total Spent'].isna())) & ~(df['Quantity'].isna() | df['PPU'].isna())\n",
    "\n",
    "df[filter]"
   ]
  },
  {
   "cell_type": "code",
   "execution_count": 27,
   "id": "fc22294b-ec36-404c-a2a4-b7fd51d75f22",
   "metadata": {},
   "outputs": [],
   "source": [
    "# now for ppu"
   ]
  },
  {
   "cell_type": "code",
   "execution_count": 28,
   "id": "9a3737e5-7b88-4bda-b348-3ab9face95c8",
   "metadata": {},
   "outputs": [],
   "source": [
    "filter_ppu = ((df['PPU'] == \"\") | (df['PPU'].isna())) & ~(df['Quantity'].isna() | df['Total Spent'].isna())\n"
   ]
  },
  {
   "cell_type": "code",
   "execution_count": 29,
   "id": "26349fd4-7728-4114-8f76-86caed6a6d88",
   "metadata": {},
   "outputs": [],
   "source": [
    "df.loc[filter_ppu, 'PPU'] = df['Total Spent'] / df['Quantity']\n"
   ]
  },
  {
   "cell_type": "code",
   "execution_count": 30,
   "id": "a052ba5a-6b9f-47f2-bb6b-676a0f883c59",
   "metadata": {},
   "outputs": [
    {
     "data": {
      "text/plain": [
       "0"
      ]
     },
     "execution_count": 30,
     "metadata": {},
     "output_type": "execute_result"
    }
   ],
   "source": [
    "df['PPU'].isna().sum()"
   ]
  },
  {
   "cell_type": "code",
   "execution_count": 31,
   "id": "e2bcccdc-c354-424b-b2b6-d68decf4d5be",
   "metadata": {},
   "outputs": [],
   "source": [
    "# now for quantity"
   ]
  },
  {
   "cell_type": "code",
   "execution_count": 32,
   "id": "939a256a-af91-4fad-bf3e-ee06d8a3f669",
   "metadata": {},
   "outputs": [
    {
     "data": {
      "text/html": [
       "<div>\n",
       "<style scoped>\n",
       "    .dataframe tbody tr th:only-of-type {\n",
       "        vertical-align: middle;\n",
       "    }\n",
       "\n",
       "    .dataframe tbody tr th {\n",
       "        vertical-align: top;\n",
       "    }\n",
       "\n",
       "    .dataframe thead th {\n",
       "        text-align: right;\n",
       "    }\n",
       "</style>\n",
       "<table border=\"1\" class=\"dataframe\">\n",
       "  <thead>\n",
       "    <tr style=\"text-align: right;\">\n",
       "      <th></th>\n",
       "      <th>Transaction ID</th>\n",
       "      <th>Customer ID</th>\n",
       "      <th>Cat</th>\n",
       "      <th>Item</th>\n",
       "      <th>PPU</th>\n",
       "      <th>Quantity</th>\n",
       "      <th>Total Spent</th>\n",
       "      <th>Method</th>\n",
       "      <th>Location</th>\n",
       "      <th>Transaction Date</th>\n",
       "      <th>Discount</th>\n",
       "    </tr>\n",
       "  </thead>\n",
       "  <tbody>\n",
       "  </tbody>\n",
       "</table>\n",
       "</div>"
      ],
      "text/plain": [
       "Empty DataFrame\n",
       "Columns: [Transaction ID, Customer ID, Cat, Item, PPU, Quantity, Total Spent,  Method, Location, Transaction Date, Discount]\n",
       "Index: []"
      ]
     },
     "execution_count": 32,
     "metadata": {},
     "output_type": "execute_result"
    }
   ],
   "source": [
    "filter_quantity = ((df['Quantity'] == \"\") | (df['Quantity'].isna())) & ~(df['PPU'].isna() | df['Total Spent'].isna())\n",
    "df[filter_quantity]"
   ]
  },
  {
   "cell_type": "code",
   "execution_count": 33,
   "id": "cd76779c-cae1-4255-8eba-db04146145dc",
   "metadata": {},
   "outputs": [
    {
     "data": {
      "text/plain": [
       "604"
      ]
     },
     "execution_count": 33,
     "metadata": {},
     "output_type": "execute_result"
    }
   ],
   "source": [
    "df['Quantity'].isna().sum()"
   ]
  },
  {
   "cell_type": "code",
   "execution_count": 34,
   "id": "f3aa250c-e4d8-4ba5-bd35-dfeab9fb71b4",
   "metadata": {},
   "outputs": [],
   "source": [
    "#since there are values missing in both quantity and total spent we will make use of mode to fill the na values in quantity"
   ]
  },
  {
   "cell_type": "code",
   "execution_count": 111,
   "id": "0ae9d1fc-a101-4f9b-a7d1-1b6714d80677",
   "metadata": {},
   "outputs": [
    {
     "name": "stderr",
     "output_type": "stream",
     "text": [
      "C:\\Users\\admin\\AppData\\Local\\Temp\\ipykernel_21884\\2919109815.py:3: FutureWarning: A value is trying to be set on a copy of a DataFrame or Series through chained assignment using an inplace method.\n",
      "The behavior will change in pandas 3.0. This inplace method will never work because the intermediate object on which we are setting values always behaves as a copy.\n",
      "\n",
      "For example, when doing 'df[col].method(value, inplace=True)', try using 'df.method({col: value}, inplace=True)' or df[col] = df[col].method(value) instead, to perform the operation inplace on the original object.\n",
      "\n",
      "\n",
      "  df['Quantity'].fillna(quantity_mode, inplace = True)\n"
     ]
    }
   ],
   "source": [
    "quantity_mode = df[\"Quantity\"].mode()[0]\n",
    "\n",
    "df['Quantity'].fillna(quantity_mode, inplace = True)"
   ]
  },
  {
   "cell_type": "code",
   "execution_count": 36,
   "id": "18502ee2-60ae-43d6-8e30-c77748103c8a",
   "metadata": {},
   "outputs": [],
   "source": [
    "# total spent"
   ]
  },
  {
   "cell_type": "code",
   "execution_count": 37,
   "id": "14270e04-1737-4a28-a03e-fef81937882b",
   "metadata": {},
   "outputs": [
    {
     "data": {
      "text/plain": [
       "604"
      ]
     },
     "execution_count": 37,
     "metadata": {},
     "output_type": "execute_result"
    }
   ],
   "source": [
    "df['Total Spent'].isna().sum()"
   ]
  },
  {
   "cell_type": "code",
   "execution_count": 38,
   "id": "28a35bed-c60f-4191-987d-43b76f66c1b2",
   "metadata": {},
   "outputs": [],
   "source": [
    "filter_total_spent = ((df['Total Spent'] == \"\") | (df['Total Spent'].isna())) & ~(df['Quantity'].isna() | df['PPU'].isna())\n",
    "df.loc[filter_total_spent,'Total Spent'] = df['PPU'] * df['Quantity']"
   ]
  },
  {
   "cell_type": "code",
   "execution_count": 39,
   "id": "3ae3b9b6-e0df-4628-8c86-a6737cd2789c",
   "metadata": {},
   "outputs": [],
   "source": [
    "#done"
   ]
  },
  {
   "cell_type": "code",
   "execution_count": 40,
   "id": "26cf6ce3-fa17-4f8f-b4f9-c86acd87b270",
   "metadata": {},
   "outputs": [
    {
     "data": {
      "text/html": [
       "<div>\n",
       "<style scoped>\n",
       "    .dataframe tbody tr th:only-of-type {\n",
       "        vertical-align: middle;\n",
       "    }\n",
       "\n",
       "    .dataframe tbody tr th {\n",
       "        vertical-align: top;\n",
       "    }\n",
       "\n",
       "    .dataframe thead th {\n",
       "        text-align: right;\n",
       "    }\n",
       "</style>\n",
       "<table border=\"1\" class=\"dataframe\">\n",
       "  <thead>\n",
       "    <tr style=\"text-align: right;\">\n",
       "      <th></th>\n",
       "      <th>Transaction ID</th>\n",
       "      <th>Customer ID</th>\n",
       "      <th>Cat</th>\n",
       "      <th>Item</th>\n",
       "      <th>PPU</th>\n",
       "      <th>Quantity</th>\n",
       "      <th>Total Spent</th>\n",
       "      <th>Method</th>\n",
       "      <th>Location</th>\n",
       "      <th>Transaction Date</th>\n",
       "      <th>Discount</th>\n",
       "    </tr>\n",
       "  </thead>\n",
       "  <tbody>\n",
       "    <tr>\n",
       "      <th>0</th>\n",
       "      <td>TXN_6867343</td>\n",
       "      <td>CUST_09</td>\n",
       "      <td>Patisserie</td>\n",
       "      <td>Item_10_PAT</td>\n",
       "      <td>18.5</td>\n",
       "      <td>10.0</td>\n",
       "      <td>185.0</td>\n",
       "      <td>Digital Wallet</td>\n",
       "      <td>Online.</td>\n",
       "      <td>2024-04-08</td>\n",
       "      <td>1.0</td>\n",
       "    </tr>\n",
       "    <tr>\n",
       "      <th>1</th>\n",
       "      <td>TXN_3731986</td>\n",
       "      <td>CUST_22</td>\n",
       "      <td>Milk Products</td>\n",
       "      <td>Item_17_MILK</td>\n",
       "      <td>29.0</td>\n",
       "      <td>9.0</td>\n",
       "      <td>261.0</td>\n",
       "      <td>Digital Wallet</td>\n",
       "      <td>Online</td>\n",
       "      <td>2023-07-23</td>\n",
       "      <td>1.0</td>\n",
       "    </tr>\n",
       "    <tr>\n",
       "      <th>2</th>\n",
       "      <td>TXN_9303719</td>\n",
       "      <td>CUST_02</td>\n",
       "      <td>Butchers</td>\n",
       "      <td>Item_12_BUT</td>\n",
       "      <td>21.5</td>\n",
       "      <td>2.0</td>\n",
       "      <td>43.0</td>\n",
       "      <td>Credit Card</td>\n",
       "      <td>Online</td>\n",
       "      <td>2022-10-05</td>\n",
       "      <td>0.0</td>\n",
       "    </tr>\n",
       "    <tr>\n",
       "      <th>3</th>\n",
       "      <td>TXN_9458126</td>\n",
       "      <td>CUST_06</td>\n",
       "      <td>Beverages</td>\n",
       "      <td>Item_16_BEV</td>\n",
       "      <td>27.5</td>\n",
       "      <td>9.0</td>\n",
       "      <td>247.5</td>\n",
       "      <td>Credit Card</td>\n",
       "      <td>Online</td>\n",
       "      <td>2022-05-07</td>\n",
       "      <td>NaN</td>\n",
       "    </tr>\n",
       "    <tr>\n",
       "      <th>4</th>\n",
       "      <td>TXN_4575373</td>\n",
       "      <td>CUST_05</td>\n",
       "      <td>Food</td>\n",
       "      <td>Item_6_FOOD</td>\n",
       "      <td>12.5</td>\n",
       "      <td>7.0</td>\n",
       "      <td>87.5</td>\n",
       "      <td>Digital Wallet</td>\n",
       "      <td>Online</td>\n",
       "      <td>2022-10-02</td>\n",
       "      <td>0.0</td>\n",
       "    </tr>\n",
       "  </tbody>\n",
       "</table>\n",
       "</div>"
      ],
      "text/plain": [
       "  Transaction ID Customer ID            Cat          Item   PPU  Quantity  \\\n",
       "0    TXN_6867343     CUST_09     Patisserie   Item_10_PAT  18.5      10.0   \n",
       "1    TXN_3731986     CUST_22  Milk Products  Item_17_MILK  29.0       9.0   \n",
       "2    TXN_9303719     CUST_02       Butchers   Item_12_BUT  21.5       2.0   \n",
       "3    TXN_9458126     CUST_06      Beverages   Item_16_BEV  27.5       9.0   \n",
       "4    TXN_4575373     CUST_05           Food   Item_6_FOOD  12.5       7.0   \n",
       "\n",
       "   Total Spent          Method Location Transaction Date  Discount  \n",
       "0        185.0  Digital Wallet  Online.       2024-04-08       1.0  \n",
       "1        261.0  Digital Wallet   Online       2023-07-23       1.0  \n",
       "2         43.0     Credit Card   Online       2022-10-05       0.0  \n",
       "3        247.5     Credit Card   Online       2022-05-07       NaN  \n",
       "4         87.5  Digital Wallet   Online       2022-10-02       0.0  "
      ]
     },
     "execution_count": 40,
     "metadata": {},
     "output_type": "execute_result"
    }
   ],
   "source": [
    "df.head()"
   ]
  },
  {
   "cell_type": "code",
   "execution_count": 41,
   "id": "458f7b97-533f-4b86-baca-07c2f985eefa",
   "metadata": {},
   "outputs": [],
   "source": [
    "# now lets check individual values in each cols"
   ]
  },
  {
   "cell_type": "code",
   "execution_count": 42,
   "id": "89ae4109-e898-4348-8d92-829ef51cf8dc",
   "metadata": {},
   "outputs": [
    {
     "data": {
      "text/html": [
       "<div>\n",
       "<style scoped>\n",
       "    .dataframe tbody tr th:only-of-type {\n",
       "        vertical-align: middle;\n",
       "    }\n",
       "\n",
       "    .dataframe tbody tr th {\n",
       "        vertical-align: top;\n",
       "    }\n",
       "\n",
       "    .dataframe thead th {\n",
       "        text-align: right;\n",
       "    }\n",
       "</style>\n",
       "<table border=\"1\" class=\"dataframe\">\n",
       "  <thead>\n",
       "    <tr style=\"text-align: right;\">\n",
       "      <th></th>\n",
       "      <th>Transaction ID</th>\n",
       "      <th>Customer ID</th>\n",
       "      <th>Cat</th>\n",
       "      <th>Item</th>\n",
       "      <th>PPU</th>\n",
       "      <th>Quantity</th>\n",
       "      <th>Total Spent</th>\n",
       "      <th>Method</th>\n",
       "      <th>Location</th>\n",
       "      <th>Transaction Date</th>\n",
       "      <th>Discount</th>\n",
       "    </tr>\n",
       "  </thead>\n",
       "  <tbody>\n",
       "    <tr>\n",
       "      <th>count</th>\n",
       "      <td>12575</td>\n",
       "      <td>12575</td>\n",
       "      <td>12575</td>\n",
       "      <td>12575</td>\n",
       "      <td>12575.000000</td>\n",
       "      <td>12575.000000</td>\n",
       "      <td>12575.000000</td>\n",
       "      <td>12575</td>\n",
       "      <td>12575</td>\n",
       "      <td>12575</td>\n",
       "      <td>8376.000000</td>\n",
       "    </tr>\n",
       "    <tr>\n",
       "      <th>unique</th>\n",
       "      <td>12575</td>\n",
       "      <td>25</td>\n",
       "      <td>8</td>\n",
       "      <td>208</td>\n",
       "      <td>NaN</td>\n",
       "      <td>NaN</td>\n",
       "      <td>NaN</td>\n",
       "      <td>3</td>\n",
       "      <td>3</td>\n",
       "      <td>NaN</td>\n",
       "      <td>NaN</td>\n",
       "    </tr>\n",
       "    <tr>\n",
       "      <th>top</th>\n",
       "      <td>TXN_6867343</td>\n",
       "      <td>CUST_05</td>\n",
       "      <td>Furniture</td>\n",
       "      <td>Item_FOOD</td>\n",
       "      <td>NaN</td>\n",
       "      <td>NaN</td>\n",
       "      <td>NaN</td>\n",
       "      <td>Crash</td>\n",
       "      <td>Online</td>\n",
       "      <td>NaN</td>\n",
       "      <td>NaN</td>\n",
       "    </tr>\n",
       "    <tr>\n",
       "      <th>freq</th>\n",
       "      <td>1</td>\n",
       "      <td>544</td>\n",
       "      <td>1591</td>\n",
       "      <td>162</td>\n",
       "      <td>NaN</td>\n",
       "      <td>NaN</td>\n",
       "      <td>NaN</td>\n",
       "      <td>4310</td>\n",
       "      <td>6353</td>\n",
       "      <td>NaN</td>\n",
       "      <td>NaN</td>\n",
       "    </tr>\n",
       "    <tr>\n",
       "      <th>mean</th>\n",
       "      <td>NaN</td>\n",
       "      <td>NaN</td>\n",
       "      <td>NaN</td>\n",
       "      <td>NaN</td>\n",
       "      <td>23.369304</td>\n",
       "      <td>5.750775</td>\n",
       "      <td>134.730099</td>\n",
       "      <td>NaN</td>\n",
       "      <td>NaN</td>\n",
       "      <td>2023-07-12 20:23:41.105368064</td>\n",
       "      <td>0.503701</td>\n",
       "    </tr>\n",
       "    <tr>\n",
       "      <th>min</th>\n",
       "      <td>NaN</td>\n",
       "      <td>NaN</td>\n",
       "      <td>NaN</td>\n",
       "      <td>NaN</td>\n",
       "      <td>5.000000</td>\n",
       "      <td>1.000000</td>\n",
       "      <td>5.000000</td>\n",
       "      <td>NaN</td>\n",
       "      <td>NaN</td>\n",
       "      <td>2022-01-01 00:00:00</td>\n",
       "      <td>0.000000</td>\n",
       "    </tr>\n",
       "    <tr>\n",
       "      <th>25%</th>\n",
       "      <td>NaN</td>\n",
       "      <td>NaN</td>\n",
       "      <td>NaN</td>\n",
       "      <td>NaN</td>\n",
       "      <td>14.000000</td>\n",
       "      <td>3.000000</td>\n",
       "      <td>55.000000</td>\n",
       "      <td>NaN</td>\n",
       "      <td>NaN</td>\n",
       "      <td>2022-09-30 00:00:00</td>\n",
       "      <td>0.000000</td>\n",
       "    </tr>\n",
       "    <tr>\n",
       "      <th>50%</th>\n",
       "      <td>NaN</td>\n",
       "      <td>NaN</td>\n",
       "      <td>NaN</td>\n",
       "      <td>NaN</td>\n",
       "      <td>23.000000</td>\n",
       "      <td>6.000000</td>\n",
       "      <td>111.000000</td>\n",
       "      <td>NaN</td>\n",
       "      <td>NaN</td>\n",
       "      <td>2023-07-13 00:00:00</td>\n",
       "      <td>1.000000</td>\n",
       "    </tr>\n",
       "    <tr>\n",
       "      <th>75%</th>\n",
       "      <td>NaN</td>\n",
       "      <td>NaN</td>\n",
       "      <td>NaN</td>\n",
       "      <td>NaN</td>\n",
       "      <td>33.500000</td>\n",
       "      <td>8.000000</td>\n",
       "      <td>200.000000</td>\n",
       "      <td>NaN</td>\n",
       "      <td>NaN</td>\n",
       "      <td>2024-04-24 00:00:00</td>\n",
       "      <td>1.000000</td>\n",
       "    </tr>\n",
       "    <tr>\n",
       "      <th>max</th>\n",
       "      <td>NaN</td>\n",
       "      <td>NaN</td>\n",
       "      <td>NaN</td>\n",
       "      <td>NaN</td>\n",
       "      <td>41.000000</td>\n",
       "      <td>10.000000</td>\n",
       "      <td>410.000000</td>\n",
       "      <td>NaN</td>\n",
       "      <td>NaN</td>\n",
       "      <td>2025-01-18 00:00:00</td>\n",
       "      <td>1.000000</td>\n",
       "    </tr>\n",
       "    <tr>\n",
       "      <th>std</th>\n",
       "      <td>NaN</td>\n",
       "      <td>NaN</td>\n",
       "      <td>NaN</td>\n",
       "      <td>NaN</td>\n",
       "      <td>10.748728</td>\n",
       "      <td>2.947245</td>\n",
       "      <td>98.113649</td>\n",
       "      <td>NaN</td>\n",
       "      <td>NaN</td>\n",
       "      <td>NaN</td>\n",
       "      <td>0.500016</td>\n",
       "    </tr>\n",
       "  </tbody>\n",
       "</table>\n",
       "</div>"
      ],
      "text/plain": [
       "       Transaction ID Customer ID        Cat       Item           PPU  \\\n",
       "count           12575       12575      12575      12575  12575.000000   \n",
       "unique          12575          25          8        208           NaN   \n",
       "top       TXN_6867343     CUST_05  Furniture  Item_FOOD           NaN   \n",
       "freq                1         544       1591        162           NaN   \n",
       "mean              NaN         NaN        NaN        NaN     23.369304   \n",
       "min               NaN         NaN        NaN        NaN      5.000000   \n",
       "25%               NaN         NaN        NaN        NaN     14.000000   \n",
       "50%               NaN         NaN        NaN        NaN     23.000000   \n",
       "75%               NaN         NaN        NaN        NaN     33.500000   \n",
       "max               NaN         NaN        NaN        NaN     41.000000   \n",
       "std               NaN         NaN        NaN        NaN     10.748728   \n",
       "\n",
       "            Quantity   Total Spent  Method Location  \\\n",
       "count   12575.000000  12575.000000   12575    12575   \n",
       "unique           NaN           NaN       3        3   \n",
       "top              NaN           NaN   Crash   Online   \n",
       "freq             NaN           NaN    4310     6353   \n",
       "mean        5.750775    134.730099     NaN      NaN   \n",
       "min         1.000000      5.000000     NaN      NaN   \n",
       "25%         3.000000     55.000000     NaN      NaN   \n",
       "50%         6.000000    111.000000     NaN      NaN   \n",
       "75%         8.000000    200.000000     NaN      NaN   \n",
       "max        10.000000    410.000000     NaN      NaN   \n",
       "std         2.947245     98.113649     NaN      NaN   \n",
       "\n",
       "                     Transaction Date     Discount  \n",
       "count                           12575  8376.000000  \n",
       "unique                            NaN          NaN  \n",
       "top                               NaN          NaN  \n",
       "freq                              NaN          NaN  \n",
       "mean    2023-07-12 20:23:41.105368064     0.503701  \n",
       "min               2022-01-01 00:00:00     0.000000  \n",
       "25%               2022-09-30 00:00:00     0.000000  \n",
       "50%               2023-07-13 00:00:00     1.000000  \n",
       "75%               2024-04-24 00:00:00     1.000000  \n",
       "max               2025-01-18 00:00:00     1.000000  \n",
       "std                               NaN     0.500016  "
      ]
     },
     "execution_count": 42,
     "metadata": {},
     "output_type": "execute_result"
    }
   ],
   "source": [
    "df.describe(include = 'all')"
   ]
  },
  {
   "cell_type": "code",
   "execution_count": 43,
   "id": "f4e2f57a-7155-4619-b4df-bd5d003b213e",
   "metadata": {},
   "outputs": [
    {
     "data": {
      "text/plain": [
       " Method\n",
       "Crash             0.342744\n",
       "Digital Wallet    0.329543\n",
       "Credit Card       0.327714\n",
       "Name: proportion, dtype: float64"
      ]
     },
     "execution_count": 43,
     "metadata": {},
     "output_type": "execute_result"
    }
   ],
   "source": [
    "df[' Method'].value_counts(normalize = True)"
   ]
  },
  {
   "cell_type": "code",
   "execution_count": 44,
   "id": "cb44fac8-ac0a-47f5-b5be-7fc69f368714",
   "metadata": {},
   "outputs": [],
   "source": [
    "# in method its written \"Crash\" instead of \"Cash\""
   ]
  },
  {
   "cell_type": "code",
   "execution_count": 45,
   "id": "59e2b717-bbba-4927-a629-4df04d49b4e6",
   "metadata": {},
   "outputs": [],
   "source": [
    "df[' Method'] = df[' Method'].replace(\"Crash\",\"Cash\")"
   ]
  },
  {
   "cell_type": "code",
   "execution_count": 46,
   "id": "e3ee6da8-b0b7-4fbe-a8c5-c4968987afa1",
   "metadata": {},
   "outputs": [
    {
     "data": {
      "text/plain": [
       "Location\n",
       "Online      6353\n",
       "In-store    6221\n",
       "Online.        1\n",
       "Name: count, dtype: int64"
      ]
     },
     "execution_count": 46,
     "metadata": {},
     "output_type": "execute_result"
    }
   ],
   "source": [
    "df['Location'].value_counts()"
   ]
  },
  {
   "cell_type": "code",
   "execution_count": 47,
   "id": "55249d9a-8fb6-42ac-8786-65f27e024f6f",
   "metadata": {},
   "outputs": [],
   "source": [
    "#removing \".\" from location"
   ]
  },
  {
   "cell_type": "code",
   "execution_count": 48,
   "id": "bde074a2-2d3d-49c2-9c54-2cf12a3a09ab",
   "metadata": {},
   "outputs": [],
   "source": [
    "df['Location'] = df['Location'].str.replace(\".\",\"\")"
   ]
  },
  {
   "cell_type": "code",
   "execution_count": 49,
   "id": "e0a94d45-7ab1-403c-ae50-f4a7f8080bf7",
   "metadata": {},
   "outputs": [
    {
     "data": {
      "text/plain": [
       "4199"
      ]
     },
     "execution_count": 49,
     "metadata": {},
     "output_type": "execute_result"
    }
   ],
   "source": [
    "df['Discount'].isna().sum()"
   ]
  },
  {
   "cell_type": "code",
   "execution_count": 50,
   "id": "34da4395-285a-455c-b02c-ef41777b50ff",
   "metadata": {},
   "outputs": [],
   "source": [
    "#since a lot of values in discount col is empty and it is not possible to deduce where the discounts were added, it would be best to delete it."
   ]
  },
  {
   "cell_type": "code",
   "execution_count": 51,
   "id": "c3270803-68f8-4d92-8c90-f928ab48e660",
   "metadata": {},
   "outputs": [],
   "source": [
    "df.drop(columns = {\"Discount\"},inplace = True)"
   ]
  },
  {
   "cell_type": "code",
   "execution_count": 52,
   "id": "50b08d5c-3a64-47c3-848e-10014c6c17ae",
   "metadata": {},
   "outputs": [
    {
     "data": {
      "text/html": [
       "<div>\n",
       "<style scoped>\n",
       "    .dataframe tbody tr th:only-of-type {\n",
       "        vertical-align: middle;\n",
       "    }\n",
       "\n",
       "    .dataframe tbody tr th {\n",
       "        vertical-align: top;\n",
       "    }\n",
       "\n",
       "    .dataframe thead th {\n",
       "        text-align: right;\n",
       "    }\n",
       "</style>\n",
       "<table border=\"1\" class=\"dataframe\">\n",
       "  <thead>\n",
       "    <tr style=\"text-align: right;\">\n",
       "      <th></th>\n",
       "      <th>Transaction ID</th>\n",
       "      <th>Customer ID</th>\n",
       "      <th>Cat</th>\n",
       "      <th>Item</th>\n",
       "      <th>PPU</th>\n",
       "      <th>Quantity</th>\n",
       "      <th>Total Spent</th>\n",
       "      <th>Method</th>\n",
       "      <th>Location</th>\n",
       "      <th>Transaction Date</th>\n",
       "    </tr>\n",
       "  </thead>\n",
       "  <tbody>\n",
       "    <tr>\n",
       "      <th>1469</th>\n",
       "      <td>TXN_8086025</td>\n",
       "      <td>CUST_20</td>\n",
       "      <td>Milk Products</td>\n",
       "      <td>Item_13_MILK</td>\n",
       "      <td>23.0</td>\n",
       "      <td>10.0</td>\n",
       "      <td>230.0</td>\n",
       "      <td>Digital Wallet</td>\n",
       "      <td>In-store</td>\n",
       "      <td>2022-05-10</td>\n",
       "    </tr>\n",
       "    <tr>\n",
       "      <th>3210</th>\n",
       "      <td>TXN_3092030</td>\n",
       "      <td>CUST_05</td>\n",
       "      <td>Food</td>\n",
       "      <td>Item_17_FOOD</td>\n",
       "      <td>29.0</td>\n",
       "      <td>7.0</td>\n",
       "      <td>203.0</td>\n",
       "      <td>Cash</td>\n",
       "      <td>In-store</td>\n",
       "      <td>2024-07-18</td>\n",
       "    </tr>\n",
       "    <tr>\n",
       "      <th>5771</th>\n",
       "      <td>TXN_8678538</td>\n",
       "      <td>CUST_16</td>\n",
       "      <td>Food</td>\n",
       "      <td>Item_13_FOOD</td>\n",
       "      <td>23.0</td>\n",
       "      <td>5.0</td>\n",
       "      <td>115.0</td>\n",
       "      <td>Digital Wallet</td>\n",
       "      <td>In-store</td>\n",
       "      <td>2023-01-24</td>\n",
       "    </tr>\n",
       "    <tr>\n",
       "      <th>11714</th>\n",
       "      <td>TXN_3003224</td>\n",
       "      <td>CUST_24</td>\n",
       "      <td>Food</td>\n",
       "      <td>Item_9_FOOD</td>\n",
       "      <td>17.0</td>\n",
       "      <td>9.0</td>\n",
       "      <td>153.0</td>\n",
       "      <td>Cash</td>\n",
       "      <td>In-store</td>\n",
       "      <td>2024-05-29</td>\n",
       "    </tr>\n",
       "    <tr>\n",
       "      <th>7513</th>\n",
       "      <td>TXN_5332685</td>\n",
       "      <td>CUST_07</td>\n",
       "      <td>Butchers</td>\n",
       "      <td>Item_19_BUT</td>\n",
       "      <td>32.0</td>\n",
       "      <td>10.0</td>\n",
       "      <td>320.0</td>\n",
       "      <td>Cash</td>\n",
       "      <td>In-store</td>\n",
       "      <td>2022-09-03</td>\n",
       "    </tr>\n",
       "  </tbody>\n",
       "</table>\n",
       "</div>"
      ],
      "text/plain": [
       "      Transaction ID Customer ID            Cat          Item   PPU  Quantity  \\\n",
       "1469     TXN_8086025     CUST_20  Milk Products  Item_13_MILK  23.0      10.0   \n",
       "3210     TXN_3092030     CUST_05           Food  Item_17_FOOD  29.0       7.0   \n",
       "5771     TXN_8678538     CUST_16           Food  Item_13_FOOD  23.0       5.0   \n",
       "11714    TXN_3003224     CUST_24           Food   Item_9_FOOD  17.0       9.0   \n",
       "7513     TXN_5332685     CUST_07       Butchers   Item_19_BUT  32.0      10.0   \n",
       "\n",
       "       Total Spent          Method  Location Transaction Date  \n",
       "1469         230.0  Digital Wallet  In-store       2022-05-10  \n",
       "3210         203.0            Cash  In-store       2024-07-18  \n",
       "5771         115.0  Digital Wallet  In-store       2023-01-24  \n",
       "11714        153.0            Cash  In-store       2024-05-29  \n",
       "7513         320.0            Cash  In-store       2022-09-03  "
      ]
     },
     "execution_count": 52,
     "metadata": {},
     "output_type": "execute_result"
    }
   ],
   "source": [
    "df.sample(5)"
   ]
  },
  {
   "cell_type": "code",
   "execution_count": 53,
   "id": "afdba22d-3db5-4557-b9ee-c0e3b6fd106c",
   "metadata": {},
   "outputs": [],
   "source": [
    "# lastly lets change the column names"
   ]
  },
  {
   "cell_type": "code",
   "execution_count": 54,
   "id": "f91c0120-1d46-40d8-bd21-954466292644",
   "metadata": {},
   "outputs": [
    {
     "data": {
      "text/plain": [
       "Index(['Transaction ID', 'Customer ID', 'Cat', 'Item', 'PPU', 'Quantity',\n",
       "       'Total Spent', ' Method', 'Location', 'Transaction Date'],\n",
       "      dtype='object')"
      ]
     },
     "execution_count": 54,
     "metadata": {},
     "output_type": "execute_result"
    }
   ],
   "source": [
    "df.columns"
   ]
  },
  {
   "cell_type": "code",
   "execution_count": 55,
   "id": "d72d500c-939b-483f-bb8f-228ce018b754",
   "metadata": {},
   "outputs": [],
   "source": [
    "df.columns = df.columns.str.strip()"
   ]
  },
  {
   "cell_type": "code",
   "execution_count": 56,
   "id": "ec303a8e-1440-44d8-80d7-455bb108239a",
   "metadata": {},
   "outputs": [],
   "source": [
    "df.rename(columns = {\n",
    "    \"Cat\":\"Category\",\n",
    "    \"Item\":\"Item ID\",\n",
    "    \"PPU\":\"Price Per Unit\",\n",
    "    \"Method\":\"Payment Method\",\n",
    "    \"Location\":\"Mode\"\n",
    "},inplace = True)"
   ]
  },
  {
   "cell_type": "code",
   "execution_count": 57,
   "id": "f6be1331-cfab-4cf3-b555-decbffa5b569",
   "metadata": {},
   "outputs": [],
   "source": [
    "df.reset_index(inplace = True)"
   ]
  },
  {
   "cell_type": "code",
   "execution_count": 108,
   "id": "74a092b3-8e2c-4e11-b280-e4a94861e7f1",
   "metadata": {},
   "outputs": [],
   "source": [
    "df['Spending Behaviour'] = df['Total Spent'].apply(\n",
    "    lambda x: \"Low\" if x < 50 else (\"High\" if x > 300 else \"Average\")\n",
    ")\n"
   ]
  },
  {
   "cell_type": "code",
   "execution_count": 58,
   "id": "268b1dd4-256d-47f7-a4d8-19d1fddee390",
   "metadata": {},
   "outputs": [],
   "source": [
    "# basic visualizations"
   ]
  },
  {
   "cell_type": "code",
   "execution_count": 93,
   "id": "eda32987-f603-4686-9e41-7ac32b1ac66d",
   "metadata": {},
   "outputs": [
    {
     "data": {
      "image/png": "[encoded data removed]",
      "text/plain": [
       "<Figure size 640x480 with 1 Axes>"
      ]
     },
     "metadata": {},
     "output_type": "display_data"
    }
   ],
   "source": [
    "\n",
    "ax = sns.countplot(data=df, x=\"Payment Method\", hue=\"Payment Method\",palette=[\"#1f77b4\",\"#4292C6\", \"#aec7e8\"] )\n",
    "\n",
    "\n",
    "for container in ax.containers:\n",
    "    ax.bar_label(container)\n",
    "\n",
    "\n",
    "plt.title(\"Payment Method Distribution\")\n",
    "plt.ylabel(\"Instances\")\n",
    "\n",
    "plt.show()\n",
    "\n"
   ]
  },
  {
   "cell_type": "code",
   "execution_count": 92,
   "id": "fa2e439e-a4ae-4334-9231-75432dbec848",
   "metadata": {},
   "outputs": [
    {
     "data": {
      "image/png": "[encoded data removed]",
      "text/plain": [
       "<Figure size 1200x500 with 1 Axes>"
      ]
     },
     "metadata": {},
     "output_type": "display_data"
    }
   ],
   "source": [
    "\n",
    "\n",
    "plt.figure(figsize =(12,5))\n",
    "sns.barplot(data = df,x = 'Category',y = 'Total Spent',hue = \"Mode\",palette=[\"#1f77b4\", \"#aec7e8\"] )\n",
    "plt.title(\"Total Spent by Categories\")\n",
    "plt.xticks(rotation = 45)\n",
    "plt.show()"
   ]
  },
  {
   "cell_type": "code",
   "execution_count": 87,
   "id": "a971a65d-90c7-4efa-869d-3f8cbbc67c8e",
   "metadata": {},
   "outputs": [
    {
     "data": {
      "image/png": "[encoded data removed]",
      "text/plain": [
       "<Figure size 640x480 with 1 Axes>"
      ]
     },
     "metadata": {},
     "output_type": "display_data"
    }
   ],
   "source": [
    "# Count occurrences of each category\n",
    "counts = df[\"Mode\"].value_counts()\n",
    "labels = counts.index  \n",
    "sizes = counts.values \n",
    "Color = [\"#08306B\",\"#DEEBF7\"]\n",
    "\n",
    "# Create pie chart\n",
    "plt.pie(sizes, labels=labels, autopct=\"%1.1f%%\", startangle=90,colors = Color)\n",
    "plt.title(\"Mode Distribution\")\n",
    "plt.show()\n"
   ]
  },
  {
   "cell_type": "code",
   "execution_count": 85,
   "id": "537fcb90-e228-4943-b8ad-c313d5aa926f",
   "metadata": {},
   "outputs": [
    {
     "data": {
      "image/png": "[encoded data removed]",
      "text/plain": [
       "<Figure size 640x480 with 1 Axes>"
      ]
     },
     "metadata": {},
     "output_type": "display_data"
    }
   ],
   "source": [
    "# Count occurrences of each categories\n",
    "counts = df[\"Category\"].value_counts()\n",
    "labels = counts.index  \n",
    "sizes = counts.values  \n",
    "blue_palette = [\n",
    "    \"#08306B\",  # dark blue\n",
    "    \"#08519C\",\n",
    "    \"#2171B5\",\n",
    "    \"#4292C6\",\n",
    "    \"#6BAED6\",\n",
    "    \"#9ECAE1\",\n",
    "    \"#C6DBEF\",\n",
    "    \"#DEEBF7\"   # lightest blue\n",
    "]\n",
    "\n",
    "\n",
    "plt.pie(sizes, labels=labels, autopct=\"%1.1f%%\", startangle=90,colors = blue_palette)\n",
    "plt.title(\"Category Distribution\")\n",
    "plt.show()"
   ]
  },
  {
   "cell_type": "code",
   "execution_count": 101,
   "id": "962e1be5-d1e1-40cf-b49b-c050f43acf3e",
   "metadata": {},
   "outputs": [
    {
     "data": {
      "image/png": "[encoded data removed]",
      "text/plain": [
       "<Figure size 1200x500 with 1 Axes>"
      ]
     },
     "metadata": {},
     "output_type": "display_data"
    }
   ],
   "source": [
    "plt.figure(figsize =(12,5))\n",
    "\n",
    "sns.barplot(\n",
    "    data=df,\n",
    "    y='Payment Method',  \n",
    "    x='Total Spent',     \n",
    "    hue='Mode',          \n",
    "    palette=[\"#1f77b4\", \"#aec7e8\"]  \n",
    ")\n",
    "\n",
    "plt.title(\"Total Spent by Payment Method\")\n",
    "plt.xlabel(\"Total Spent\")\n",
    "plt.ylabel(\"Payment Method\")\n",
    "plt.legend(title=\"Mode\",loc = \"upper right\")  # customize legend\n",
    "\n",
    "plt.show()"
   ]
  },
  {
   "cell_type": "code",
   "execution_count": 110,
   "id": "dd9bf033-d3f6-4fd8-a7a0-147e6a1dc66c",
   "metadata": {},
   "outputs": [],
   "source": [
    "df.to_excel(\"Transformed Sales Data.xlsx\")"
   ]
  },
  {
   "cell_type": "code",
   "execution_count": null,
   "id": "915b83b9-b9f3-429f-8852-01261ac92884",
   "metadata": {},
   "outputs": [],
   "source": []
  }
 ],
 "metadata": {
  "kernelspec": {
   "display_name": "Python 3 (ipykernel)",
   "language": "python",
   "name": "python3"
  },
  "language_info": {
   "codemirror_mode": {
    "name": "ipython",
    "version": 3
   },
   "file_extension": ".py",
   "mimetype": "text/x-python",
   "name": "python",
   "nbconvert_exporter": "python",
   "pygments_lexer": "ipython3",
   "version": "3.10.16"
  }
 },
 "nbformat": 4,
 "nbformat_minor": 5
}
